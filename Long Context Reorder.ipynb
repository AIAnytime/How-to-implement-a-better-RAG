{
 "cells": [
  {
   "cell_type": "code",
   "execution_count": 8,
   "id": "0aa9b4a7",
   "metadata": {
    "ExecuteTime": {
     "end_time": "2023-10-24T05:23:28.110480Z",
     "start_time": "2023-10-24T05:23:27.840083Z"
    }
   },
   "outputs": [],
   "source": [
    "import os\n",
    "import chromadb\n",
    "from langchain.vectorstores import Chroma\n",
    "from langchain.document_transformers import (\n",
    "    LongContextReorder,\n",
    ")\n",
    "from langchain.chains import StuffDocumentsChain, LLMChain\n",
    "from langchain.prompts import PromptTemplate\n",
    "from langchain.embeddings import HuggingFaceBgeEmbeddings\n",
    "from langchain.retrievers.merger_retriever import MergerRetriever"
   ]
  },
  {
   "cell_type": "code",
   "execution_count": 3,
   "id": "f64b09de",
   "metadata": {
    "ExecuteTime": {
     "end_time": "2023-10-24T05:21:09.538568Z",
     "start_time": "2023-10-24T05:20:52.240789Z"
    }
   },
   "outputs": [
    {
     "name": "stdout",
     "output_type": "stream",
     "text": [
      "Embedding Model Loaded..........\n"
     ]
    }
   ],
   "source": [
    "model_name = \"BAAI/bge-large-en\"\n",
    "model_kwargs = {'device': 'cpu'}\n",
    "encode_kwargs = {'normalize_embeddings': False}\n",
    "hf = HuggingFaceBgeEmbeddings(\n",
    "    model_name=model_name,\n",
    "    model_kwargs=model_kwargs,\n",
    "    encode_kwargs=encode_kwargs\n",
    ")\n",
    "print(\"Embedding Model Loaded..........\")"
   ]
  },
  {
   "cell_type": "code",
   "execution_count": 4,
   "id": "30aea37c",
   "metadata": {
    "ExecuteTime": {
     "end_time": "2023-10-24T05:21:30.296270Z",
     "start_time": "2023-10-24T05:21:29.949631Z"
    }
   },
   "outputs": [
    {
     "name": "stdout",
     "output_type": "stream",
     "text": [
      "First Vector Store Loaded.........\n"
     ]
    }
   ],
   "source": [
    "load_un_sdg_store = Chroma(persist_directory=\"store/un_sdg_chroma_cosine\", embedding_function=hf)\n",
    "print(\"First Vector Store Loaded.........\")"
   ]
  },
  {
   "cell_type": "code",
   "execution_count": 5,
   "id": "6c1e0835",
   "metadata": {
    "ExecuteTime": {
     "end_time": "2023-10-24T05:22:04.932920Z",
     "start_time": "2023-10-24T05:22:04.906738Z"
    }
   },
   "outputs": [
    {
     "name": "stdout",
     "output_type": "stream",
     "text": [
      "Second Vector Store Loaded........\n"
     ]
    }
   ],
   "source": [
    "load_paris_agreement_store = Chroma(persist_directory=\"store/paris_chroma_cosine\", embedding_function=hf)\n",
    "print(\"Second Vector Store Loaded........\")"
   ]
  },
  {
   "cell_type": "code",
   "execution_count": 6,
   "id": "a2752e9d",
   "metadata": {
    "ExecuteTime": {
     "end_time": "2023-10-24T05:22:56.660773Z",
     "start_time": "2023-10-24T05:22:56.654032Z"
    }
   },
   "outputs": [],
   "source": [
    "retriever_un_sdg = load_un_sdg_store.as_retriever(search_type = \"similarity\", search_kwargs = {\"k\":3, \"include_metadata\": True})\n",
    "\n",
    "retriever_paris_agreement = load_paris_agreement_store.as_retriever(search_type = \"similarity\", search_kwargs = {\"k\":3, \"include_metadata\": True})"
   ]
  },
  {
   "cell_type": "code",
   "execution_count": 9,
   "id": "8852ee74",
   "metadata": {
    "ExecuteTime": {
     "end_time": "2023-10-24T05:23:32.449812Z",
     "start_time": "2023-10-24T05:23:32.441695Z"
    }
   },
   "outputs": [],
   "source": [
    "lotr = MergerRetriever(retrievers=[retriever_un_sdg, retriever_paris_agreement])"
   ]
  },
  {
   "cell_type": "code",
   "execution_count": 10,
   "id": "30bd6fbe",
   "metadata": {
    "ExecuteTime": {
     "end_time": "2023-10-24T05:24:04.063709Z",
     "start_time": "2023-10-24T05:24:02.411520Z"
    }
   },
   "outputs": [
    {
     "name": "stdout",
     "output_type": "stream",
     "text": [
      "resilience+ and+ adaptive+ capacity+ to+ climateJrelated+ hazards+ and+ natural+disasters+in+all+countries++13.2+Integrate+climate+change+measures+into+national+policies,+strategies+and+planning++13.3+Improve+education,+awarenessJraising+and+human+and+institutional+capacity+on+climate+change+mitigation,+adaptation,+impact+reduction+and+early+warning+13.a+Implement+the+commitment+undertaken+by+developedJcountry+parties+to+the+United+Nations+Framework+Convention+on+Climate+Change+to+a+goal+of+mobilizing+jointly+$100+billion+annually+by+2020+from+all+sources+to+address+the+needs+of+developing+countries+in+the+context+of+meaningful+mitigation+actions+and+transparency+on+implementation+and+fully+operationalize+the+Green+Climate+Fund+through+its+capitalization+as+soon+as+possible+++*+Acknowledging+that+the+United+Nations+Framework+Convention+on+Climate+Change+is+the+primary+international,+intergovernmental+forum+for+negotiating+the+global+response+to+climate+change.+\n",
      "finance should  represent a progression beyond previous efforts. \n",
      "4. The provision of scaled-up financial resources should aim to achieve a \n",
      "balance between adaptation and mitigation, taking into account country-driven \n",
      "strategies, and the priorities and needs of developing country Parties, especially \n",
      "those that are particularly vulnerable to the adverse effects of climate change and \n",
      "have significant capacity constraints, such as the least developed countries and \n",
      "small island developing States, considering the need for public and grant-based \n",
      "resources for adaptation. \n",
      "5. Developed country Parties shall biennially communicate indicative \n",
      "quantitative and qualitative information related to paragraphs 1 and 3 of this \n",
      "Article, as applicable, including, as available, projected levels of public financial \n",
      "resources to be provided to developing country Parties. Other Parties providing \n",
      "resources are encouraged to communicate biennially such information on a \n",
      "voluntary basis.\n",
      "and+ adaptation+ to+ climate+ change,+ resilience+ to+ disasters,+ and+ develop+ and+implement,+in+line+with+the+Sendai+Framework+for+Disaster+Risk+Reduction+2015J2030,+holistic+disaster+risk+management+at+all+levels++11.c+Support+least+developed+countries,+including+through+financial+and+technical+assistance,+in+building+sustainable+and+resilient+buildings+utilizing+local+materials+++!!Goal!12.!Ensure!sustainable!consumption!and!production!patterns!+12.1+Implement+the+10JYear+Framework+of+Programmes+on+Sustainable+Consumption+and+Production+ Patterns,+ all+ countries+ taking+ action,+ with+ developed+ countries+ taking+ the+ lead,+taking+into+account+the+development+and+capabilities+of+developing+countries+12.2+By+2030,+achieve+the+sustainable+management+and+efficient+use+of+natural+resources++\n",
      "8. Parties recognize the importance of integrated, holistic and balanced \n",
      "non-market approaches being available to Parties to assist in the implementation of \n",
      "their nationally determined contributions, in the context of sustainable development \n",
      "and poverty eradication, in a coordinated and effective manner, including through, \n",
      "inter alia, mitigation, adaptation, finance, technology transfer and capacity-\n",
      "building, as appropriate. These approaches shall aim to: \n",
      "(a) Promote mitigation and adaptation ambition; \n",
      "(b) Enhance public and private sector participation in the implementation \n",
      "of nationally determined  contributions; and \n",
      "(c) Enable opportunities for coordination across instruments and relevant \n",
      "institutional arrangements. \n",
      "9. A framework for non-market approaches to sustainable development is \n",
      "hereby defined to promote the non-market approaches referred to in paragraph 8 of \n",
      "this Article. \n",
      "-8-\n",
      "by+removing+ market+ distortions,+ in+ accordance+ with+ national+ circumstances,+ including+ by+restructuring+taxation+and+phasing+out+those+harmful+subsidies,+where+they+exist,+to+reflect+their+environmental+impacts,+taking+fully+into+account+the+specific+needs+and+conditions+of+developing+countries+and+minimizing+the+possible+adverse+impacts+on+their+development+in+a+manner+that+protects+the+poor+and+the+affected+communities+++!!Goal!13.!Take!urgent!action!to!combat!climate!change!and!its!impacts*!+13.1+Strengthen+ resilience+ and+ adaptive+ capacity+ to+ climateJrelated+ hazards+ and+\n",
      "6. Parties recognize the importance of support for and international cooperation \n",
      "on adaptation efforts and the importance of taking into account the needs of \n",
      "developing country Parties, especially those that are particularly vulnerable to the \n",
      "adverse effects of climate change. \n",
      "7. Parties should strengthen their cooperation on enhancing action on \n",
      "adaptation, taking into account the Cancun Adaptation Framework, including with \n",
      "regard to: \n",
      "-9-\n"
     ]
    }
   ],
   "source": [
    "for chunks in lotr.get_relevant_documents(\"Is there any framework available to tackle the climate change?\"):\n",
    "    print(chunks.page_content)"
   ]
  },
  {
   "cell_type": "code",
   "execution_count": 11,
   "id": "cd0ce67f",
   "metadata": {
    "ExecuteTime": {
     "end_time": "2023-10-24T05:25:57.391572Z",
     "start_time": "2023-10-24T05:25:57.381665Z"
    }
   },
   "outputs": [],
   "source": [
    "query = \"Is there any framework available to tackle the climate change?\""
   ]
  },
  {
   "cell_type": "code",
   "execution_count": 12,
   "id": "2ad52e64",
   "metadata": {
    "ExecuteTime": {
     "end_time": "2023-10-24T05:26:12.062795Z",
     "start_time": "2023-10-24T05:26:11.487810Z"
    }
   },
   "outputs": [
    {
     "data": {
      "text/plain": [
       "[Document(page_content='resilience+ and+ adaptive+ capacity+ to+ climateJrelated+ hazards+ and+ natural+disasters+in+all+countries++13.2+Integrate+climate+change+measures+into+national+policies,+strategies+and+planning++13.3+Improve+education,+awarenessJraising+and+human+and+institutional+capacity+on+climate+change+mitigation,+adaptation,+impact+reduction+and+early+warning+13.a+Implement+the+commitment+undertaken+by+developedJcountry+parties+to+the+United+Nations+Framework+Convention+on+Climate+Change+to+a+goal+of+mobilizing+jointly+$100+billion+annually+by+2020+from+all+sources+to+address+the+needs+of+developing+countries+in+the+context+of+meaningful+mitigation+actions+and+transparency+on+implementation+and+fully+operationalize+the+Green+Climate+Fund+through+its+capitalization+as+soon+as+possible+++*+Acknowledging+that+the+United+Nations+Framework+Convention+on+Climate+Change+is+the+primary+international,+intergovernmental+forum+for+negotiating+the+global+response+to+climate+change.+', metadata={'page': 26, 'source': 'data/UN SDG.pdf'}),\n",
       " Document(page_content='finance should  represent a progression beyond previous efforts. \\n4. The provision of scaled-up financial resources should aim to achieve a \\nbalance between adaptation and mitigation, taking into account country-driven \\nstrategies, and the priorities and needs of developing country Parties, especially \\nthose that are particularly vulnerable to the adverse effects of climate change and \\nhave significant capacity constraints, such as the least developed countries and \\nsmall island developing States, considering the need for public and grant-based \\nresources for adaptation. \\n5. Developed country Parties shall biennially communicate indicative \\nquantitative and qualitative information related to paragraphs 1 and 3 of this \\nArticle, as applicable, including, as available, projected levels of public financial \\nresources to be provided to developing country Parties. Other Parties providing \\nresources are encouraged to communicate biennially such information on a \\nvoluntary basis.', metadata={'page': 14, 'source': 'data/english_paris_agreement.pdf'}),\n",
       " Document(page_content='and+ adaptation+ to+ climate+ change,+ resilience+ to+ disasters,+ and+ develop+ and+implement,+in+line+with+the+Sendai+Framework+for+Disaster+Risk+Reduction+2015J2030,+holistic+disaster+risk+management+at+all+levels++11.c+Support+least+developed+countries,+including+through+financial+and+technical+assistance,+in+building+sustainable+and+resilient+buildings+utilizing+local+materials+++!!Goal!12.!Ensure!sustainable!consumption!and!production!patterns!+12.1+Implement+the+10JYear+Framework+of+Programmes+on+Sustainable+Consumption+and+Production+ Patterns,+ all+ countries+ taking+ action,+ with+ developed+ countries+ taking+ the+ lead,+taking+into+account+the+development+and+capabilities+of+developing+countries+12.2+By+2030,+achieve+the+sustainable+management+and+efficient+use+of+natural+resources++', metadata={'page': 25, 'source': 'data/UN SDG.pdf'}),\n",
       " Document(page_content='8. Parties recognize the importance of integrated, holistic and balanced \\nnon-market approaches being available to Parties to assist in the implementation of \\ntheir nationally determined contributions, in the context of sustainable development \\nand poverty eradication, in a coordinated and effective manner, including through, \\ninter alia, mitigation, adaptation, finance, technology transfer and capacity-\\nbuilding, as appropriate. These approaches shall aim to: \\n(a) Promote mitigation and adaptation ambition; \\n(b) Enhance public and private sector participation in the implementation \\nof nationally determined  contributions; and \\n(c) Enable opportunities for coordination across instruments and relevant \\ninstitutional arrangements. \\n9. A framework for non-market approaches to sustainable development is \\nhereby defined to promote the non-market approaches referred to in paragraph 8 of \\nthis Article. \\n-8-', metadata={'page': 9, 'source': 'data/english_paris_agreement.pdf'}),\n",
       " Document(page_content='by+removing+ market+ distortions,+ in+ accordance+ with+ national+ circumstances,+ including+ by+restructuring+taxation+and+phasing+out+those+harmful+subsidies,+where+they+exist,+to+reflect+their+environmental+impacts,+taking+fully+into+account+the+specific+needs+and+conditions+of+developing+countries+and+minimizing+the+possible+adverse+impacts+on+their+development+in+a+manner+that+protects+the+poor+and+the+affected+communities+++!!Goal!13.!Take!urgent!action!to!combat!climate!change!and!its!impacts*!+13.1+Strengthen+ resilience+ and+ adaptive+ capacity+ to+ climateJrelated+ hazards+ and+', metadata={'page': 26, 'source': 'data/UN SDG.pdf'}),\n",
       " Document(page_content='6. Parties recognize the importance of support for and international cooperation \\non adaptation efforts and the importance of taking into account the needs of \\ndeveloping country Parties, especially those that are particularly vulnerable to the \\nadverse effects of climate change. \\n7. Parties should strengthen their cooperation on enhancing action on \\nadaptation, taking into account the Cancun Adaptation Framework, including with \\nregard to: \\n-9-', metadata={'page': 10, 'source': 'data/english_paris_agreement.pdf'})]"
      ]
     },
     "execution_count": 12,
     "metadata": {},
     "output_type": "execute_result"
    }
   ],
   "source": [
    "docs = lotr.get_relevant_documents(query)\n",
    "docs"
   ]
  },
  {
   "cell_type": "markdown",
   "id": "21568b14",
   "metadata": {},
   "source": [
    "## Reordered Docs (Tackling Lost in the Middle)"
   ]
  },
  {
   "cell_type": "code",
   "execution_count": 13,
   "id": "43158422",
   "metadata": {
    "ExecuteTime": {
     "end_time": "2023-10-24T05:27:20.753604Z",
     "start_time": "2023-10-24T05:27:20.740134Z"
    }
   },
   "outputs": [
    {
     "data": {
      "text/plain": [
       "[Document(page_content='finance should  represent a progression beyond previous efforts. \\n4. The provision of scaled-up financial resources should aim to achieve a \\nbalance between adaptation and mitigation, taking into account country-driven \\nstrategies, and the priorities and needs of developing country Parties, especially \\nthose that are particularly vulnerable to the adverse effects of climate change and \\nhave significant capacity constraints, such as the least developed countries and \\nsmall island developing States, considering the need for public and grant-based \\nresources for adaptation. \\n5. Developed country Parties shall biennially communicate indicative \\nquantitative and qualitative information related to paragraphs 1 and 3 of this \\nArticle, as applicable, including, as available, projected levels of public financial \\nresources to be provided to developing country Parties. Other Parties providing \\nresources are encouraged to communicate biennially such information on a \\nvoluntary basis.', metadata={'page': 14, 'source': 'data/english_paris_agreement.pdf'}),\n",
       " Document(page_content='8. Parties recognize the importance of integrated, holistic and balanced \\nnon-market approaches being available to Parties to assist in the implementation of \\ntheir nationally determined contributions, in the context of sustainable development \\nand poverty eradication, in a coordinated and effective manner, including through, \\ninter alia, mitigation, adaptation, finance, technology transfer and capacity-\\nbuilding, as appropriate. These approaches shall aim to: \\n(a) Promote mitigation and adaptation ambition; \\n(b) Enhance public and private sector participation in the implementation \\nof nationally determined  contributions; and \\n(c) Enable opportunities for coordination across instruments and relevant \\ninstitutional arrangements. \\n9. A framework for non-market approaches to sustainable development is \\nhereby defined to promote the non-market approaches referred to in paragraph 8 of \\nthis Article. \\n-8-', metadata={'page': 9, 'source': 'data/english_paris_agreement.pdf'}),\n",
       " Document(page_content='6. Parties recognize the importance of support for and international cooperation \\non adaptation efforts and the importance of taking into account the needs of \\ndeveloping country Parties, especially those that are particularly vulnerable to the \\nadverse effects of climate change. \\n7. Parties should strengthen their cooperation on enhancing action on \\nadaptation, taking into account the Cancun Adaptation Framework, including with \\nregard to: \\n-9-', metadata={'page': 10, 'source': 'data/english_paris_agreement.pdf'}),\n",
       " Document(page_content='by+removing+ market+ distortions,+ in+ accordance+ with+ national+ circumstances,+ including+ by+restructuring+taxation+and+phasing+out+those+harmful+subsidies,+where+they+exist,+to+reflect+their+environmental+impacts,+taking+fully+into+account+the+specific+needs+and+conditions+of+developing+countries+and+minimizing+the+possible+adverse+impacts+on+their+development+in+a+manner+that+protects+the+poor+and+the+affected+communities+++!!Goal!13.!Take!urgent!action!to!combat!climate!change!and!its!impacts*!+13.1+Strengthen+ resilience+ and+ adaptive+ capacity+ to+ climateJrelated+ hazards+ and+', metadata={'page': 26, 'source': 'data/UN SDG.pdf'}),\n",
       " Document(page_content='and+ adaptation+ to+ climate+ change,+ resilience+ to+ disasters,+ and+ develop+ and+implement,+in+line+with+the+Sendai+Framework+for+Disaster+Risk+Reduction+2015J2030,+holistic+disaster+risk+management+at+all+levels++11.c+Support+least+developed+countries,+including+through+financial+and+technical+assistance,+in+building+sustainable+and+resilient+buildings+utilizing+local+materials+++!!Goal!12.!Ensure!sustainable!consumption!and!production!patterns!+12.1+Implement+the+10JYear+Framework+of+Programmes+on+Sustainable+Consumption+and+Production+ Patterns,+ all+ countries+ taking+ action,+ with+ developed+ countries+ taking+ the+ lead,+taking+into+account+the+development+and+capabilities+of+developing+countries+12.2+By+2030,+achieve+the+sustainable+management+and+efficient+use+of+natural+resources++', metadata={'page': 25, 'source': 'data/UN SDG.pdf'}),\n",
       " Document(page_content='resilience+ and+ adaptive+ capacity+ to+ climateJrelated+ hazards+ and+ natural+disasters+in+all+countries++13.2+Integrate+climate+change+measures+into+national+policies,+strategies+and+planning++13.3+Improve+education,+awarenessJraising+and+human+and+institutional+capacity+on+climate+change+mitigation,+adaptation,+impact+reduction+and+early+warning+13.a+Implement+the+commitment+undertaken+by+developedJcountry+parties+to+the+United+Nations+Framework+Convention+on+Climate+Change+to+a+goal+of+mobilizing+jointly+$100+billion+annually+by+2020+from+all+sources+to+address+the+needs+of+developing+countries+in+the+context+of+meaningful+mitigation+actions+and+transparency+on+implementation+and+fully+operationalize+the+Green+Climate+Fund+through+its+capitalization+as+soon+as+possible+++*+Acknowledging+that+the+United+Nations+Framework+Convention+on+Climate+Change+is+the+primary+international,+intergovernmental+forum+for+negotiating+the+global+response+to+climate+change.+', metadata={'page': 26, 'source': 'data/UN SDG.pdf'})]"
      ]
     },
     "execution_count": 13,
     "metadata": {},
     "output_type": "execute_result"
    }
   ],
   "source": [
    "reordering = LongContextReorder()\n",
    "reordered_docs = reordering.transform_documents(docs)\n",
    "\n",
    "# Confirm that the 4 relevant documents are at beginning and end.\n",
    "reordered_docs"
   ]
  },
  {
   "cell_type": "markdown",
   "id": "37c1bdd5",
   "metadata": {},
   "source": [
    "## "
   ]
  },
  {
   "cell_type": "code",
   "execution_count": null,
   "id": "0165f1d8",
   "metadata": {},
   "outputs": [],
   "source": []
  }
 ],
 "metadata": {
  "kernelspec": {
   "display_name": "Python 3 (ipykernel)",
   "language": "python",
   "name": "python3"
  },
  "language_info": {
   "codemirror_mode": {
    "name": "ipython",
    "version": 3
   },
   "file_extension": ".py",
   "mimetype": "text/x-python",
   "name": "python",
   "nbconvert_exporter": "python",
   "pygments_lexer": "ipython3",
   "version": "3.11.4"
  }
 },
 "nbformat": 4,
 "nbformat_minor": 5
}
