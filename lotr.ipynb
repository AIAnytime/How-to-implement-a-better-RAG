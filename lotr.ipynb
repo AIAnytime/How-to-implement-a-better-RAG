{
 "cells": [
  {
   "cell_type": "code",
   "execution_count": 5,
   "id": "ef663270-9c8f-4d22-afe9-c6ebd38dc027",
   "metadata": {
    "ExecuteTime": {
     "end_time": "2023-10-23T08:19:18.576133Z",
     "start_time": "2023-10-23T08:19:18.572018Z"
    },
    "tags": []
   },
   "outputs": [],
   "source": [
    "import os\n",
    "import chromadb\n",
    "from langchain.retrievers.merger_retriever import MergerRetriever\n",
    "from langchain.vectorstores import Chroma\n",
    "from langchain.embeddings import HuggingFaceBgeEmbeddings\n",
    "from langchain.document_transformers import (\n",
    "    EmbeddingsRedundantFilter,\n",
    "    EmbeddingsClusteringFilter,\n",
    ")\n",
    "from langchain.retrievers.document_compressors import DocumentCompressorPipeline\n",
    "from langchain.retrievers import ContextualCompressionRetriever\n",
    "from langchain.document_loaders import PyPDFLoader\n",
    "from langchain.text_splitter import RecursiveCharacterTextSplitter"
   ]
  },
  {
   "cell_type": "markdown",
   "id": "19c1c81e",
   "metadata": {},
   "source": [
    "## Get the Embedding Model"
   ]
  },
  {
   "cell_type": "code",
   "execution_count": 3,
   "id": "e7b2b839",
   "metadata": {
    "ExecuteTime": {
     "end_time": "2023-10-23T08:16:33.768026Z",
     "start_time": "2023-10-23T08:15:58.421696Z"
    }
   },
   "outputs": [
    {
     "name": "stdout",
     "output_type": "stream",
     "text": [
      "Embedding Model Loaded..........\n"
     ]
    }
   ],
   "source": [
    "model_name = \"BAAI/bge-large-en\"\n",
    "model_kwargs = {'device': 'cpu'}\n",
    "encode_kwargs = {'normalize_embeddings': False}\n",
    "hf = HuggingFaceBgeEmbeddings(\n",
    "    model_name=model_name,\n",
    "    model_kwargs=model_kwargs,\n",
    "    encode_kwargs=encode_kwargs\n",
    ")\n",
    "print(\"Embedding Model Loaded..........\")"
   ]
  },
  {
   "cell_type": "markdown",
   "id": "5cd3fdac",
   "metadata": {},
   "source": [
    "## Data Preprocessing"
   ]
  },
  {
   "cell_type": "code",
   "execution_count": 7,
   "id": "f80304d5",
   "metadata": {
    "ExecuteTime": {
     "end_time": "2023-10-23T08:20:39.859232Z",
     "start_time": "2023-10-23T08:20:37.745383Z"
    }
   },
   "outputs": [],
   "source": [
    "loader_un_sdg = PyPDFLoader(\"data/UN SDG.pdf\")\n",
    "documents_un_sdg = loader_un_sdg.load()\n",
    "text_splitter_un_sdg = RecursiveCharacterTextSplitter(chunk_size=1000,\n",
    "                                                   chunk_overlap=100)\n",
    "texts_un_sdg = text_splitter_un_sdg.split_documents(documents_un_sdg)"
   ]
  },
  {
   "cell_type": "code",
   "execution_count": 9,
   "id": "896ae7d8",
   "metadata": {
    "ExecuteTime": {
     "end_time": "2023-10-23T08:20:54.307932Z",
     "start_time": "2023-10-23T08:20:54.301672Z"
    }
   },
   "outputs": [
    {
     "data": {
      "text/plain": [
       "Document(page_content='TRANSFORMING OUR WORLD:\\nTHE 2030 AGENDA FOR \\nSUST AINABLE DEVELOPMENTUNITED NA TIONS', metadata={'source': 'data/UN SDG.pdf', 'page': 0})"
      ]
     },
     "execution_count": 9,
     "metadata": {},
     "output_type": "execute_result"
    }
   ],
   "source": [
    "texts_un_sdg[0]"
   ]
  },
  {
   "cell_type": "code",
   "execution_count": 10,
   "id": "ee63c80e",
   "metadata": {
    "ExecuteTime": {
     "end_time": "2023-10-23T08:24:48.575161Z",
     "start_time": "2023-10-23T08:24:48.240696Z"
    }
   },
   "outputs": [],
   "source": [
    "loader_paris_agreement = PyPDFLoader(\"data/english_paris_agreement.pdf\")\n",
    "documents_paris_agreement = loader_paris_agreement.load()\n",
    "text_splitter_paris_agreement = RecursiveCharacterTextSplitter(chunk_size=1000,\n",
    "                                                   chunk_overlap=100)\n",
    "texts_paris_agreement = text_splitter_paris_agreement.split_documents(documents_paris_agreement)"
   ]
  },
  {
   "cell_type": "code",
   "execution_count": 11,
   "id": "95eb01f6",
   "metadata": {
    "ExecuteTime": {
     "end_time": "2023-10-23T08:24:53.207454Z",
     "start_time": "2023-10-23T08:24:53.202415Z"
    }
   },
   "outputs": [
    {
     "data": {
      "text/plain": [
       "Document(page_content='PARIS AGREEMENT \\n(mm \\nUNITED NATIONS \\n2015', metadata={'source': 'data/english_paris_agreement.pdf', 'page': 0})"
      ]
     },
     "execution_count": 11,
     "metadata": {},
     "output_type": "execute_result"
    }
   ],
   "source": [
    "texts_paris_agreement[0]"
   ]
  },
  {
   "cell_type": "markdown",
   "id": "6420577a",
   "metadata": {},
   "source": [
    "## Create and Store Vectors"
   ]
  },
  {
   "cell_type": "code",
   "execution_count": 12,
   "id": "5ef86740",
   "metadata": {
    "ExecuteTime": {
     "end_time": "2023-10-23T08:36:02.439715Z",
     "start_time": "2023-10-23T08:32:26.262422Z"
    }
   },
   "outputs": [],
   "source": [
    "un_sdg_store = Chroma.from_documents(texts_un_sdg, hf, collection_metadata={\"hnsw:space\": \"cosine\"}, persist_directory=\"store/un_sdg_chroma_cosine\")"
   ]
  },
  {
   "cell_type": "code",
   "execution_count": 13,
   "id": "7f31a053",
   "metadata": {
    "ExecuteTime": {
     "end_time": "2023-10-23T08:49:54.220901Z",
     "start_time": "2023-10-23T08:49:11.975656Z"
    }
   },
   "outputs": [],
   "source": [
    "paris_agreement_store = Chroma.from_documents(texts_paris_agreement, hf, collection_metadata={\"hnsw:space\": \"cosine\"}, persist_directory=\"store/paris_chroma_cosine\")"
   ]
  },
  {
   "cell_type": "markdown",
   "id": "aa1dfda5",
   "metadata": {},
   "source": [
    "## Load Vector Store"
   ]
  },
  {
   "cell_type": "code",
   "execution_count": 20,
   "id": "9faea31c",
   "metadata": {
    "ExecuteTime": {
     "end_time": "2023-10-23T09:01:38.800968Z",
     "start_time": "2023-10-23T09:01:38.791486Z"
    }
   },
   "outputs": [],
   "source": [
    "load_un_sdg_store = Chroma(persist_directory=\"store/un_sdg_chroma_cosine\", embedding_function=hf)"
   ]
  },
  {
   "cell_type": "code",
   "execution_count": 21,
   "id": "4767de7a",
   "metadata": {
    "ExecuteTime": {
     "end_time": "2023-10-23T09:02:04.719254Z",
     "start_time": "2023-10-23T09:02:04.709131Z"
    }
   },
   "outputs": [],
   "source": [
    "load_paris_agreement_store = Chroma(persist_directory=\"store/paris_chroma_cosine\", embedding_function=hf)"
   ]
  },
  {
   "cell_type": "markdown",
   "id": "bbe6d5bf",
   "metadata": {},
   "source": [
    "## Init Merge Retriever"
   ]
  },
  {
   "cell_type": "code",
   "execution_count": 22,
   "id": "dca28b13",
   "metadata": {
    "ExecuteTime": {
     "end_time": "2023-10-23T09:02:52.862205Z",
     "start_time": "2023-10-23T09:02:52.857127Z"
    }
   },
   "outputs": [],
   "source": [
    "retriever_un_sdg = load_un_sdg_store.as_retriever(search_type = \"similarity\", search_kwargs = {\"k\":3, \"include_metadata\": True})\n",
    "\n",
    "retriever_paris_agreement = load_paris_agreement_store.as_retriever(search_type = \"similarity\", search_kwargs = {\"k\":3, \"include_metadata\": True})"
   ]
  },
  {
   "cell_type": "code",
   "execution_count": 23,
   "id": "7cf4780e",
   "metadata": {
    "ExecuteTime": {
     "end_time": "2023-10-23T09:02:54.002581Z",
     "start_time": "2023-10-23T09:02:53.999837Z"
    }
   },
   "outputs": [],
   "source": [
    "lotr = MergerRetriever(retrievers=[retriever_un_sdg, retriever_paris_agreement])"
   ]
  },
  {
   "cell_type": "code",
   "execution_count": 24,
   "id": "fb9ccdc9",
   "metadata": {
    "ExecuteTime": {
     "end_time": "2023-10-23T09:02:54.636861Z",
     "start_time": "2023-10-23T09:02:54.631590Z"
    }
   },
   "outputs": [
    {
     "data": {
      "text/plain": [
       "MergerRetriever(tags=None, metadata=None, retrievers=[VectorStoreRetriever(tags=['Chroma', 'HuggingFaceBgeEmbeddings'], metadata=None, vectorstore=<langchain.vectorstores.chroma.Chroma object at 0x0000028839E541D0>, search_type='similarity', search_kwargs={'k': 3, 'include_metadata': True}), VectorStoreRetriever(tags=['Chroma', 'HuggingFaceBgeEmbeddings'], metadata=None, vectorstore=<langchain.vectorstores.chroma.Chroma object at 0x0000028839866690>, search_type='similarity', search_kwargs={'k': 3, 'include_metadata': True})])"
      ]
     },
     "execution_count": 24,
     "metadata": {},
     "output_type": "execute_result"
    }
   ],
   "source": [
    "lotr"
   ]
  },
  {
   "cell_type": "markdown",
   "id": "28a46e7e",
   "metadata": {},
   "source": [
    "## Perform Semantic Search"
   ]
  },
  {
   "cell_type": "code",
   "execution_count": 25,
   "id": "2f29ac8f",
   "metadata": {
    "ExecuteTime": {
     "end_time": "2023-10-23T09:06:24.819580Z",
     "start_time": "2023-10-23T09:06:24.476783Z"
    }
   },
   "outputs": [
    {
     "name": "stdout",
     "output_type": "stream",
     "text": [
      "resilience+ and+ adaptive+ capacity+ to+ climateJrelated+ hazards+ and+ natural+disasters+in+all+countries++13.2+Integrate+climate+change+measures+into+national+policies,+strategies+and+planning++13.3+Improve+education,+awarenessJraising+and+human+and+institutional+capacity+on+climate+change+mitigation,+adaptation,+impact+reduction+and+early+warning+13.a+Implement+the+commitment+undertaken+by+developedJcountry+parties+to+the+United+Nations+Framework+Convention+on+Climate+Change+to+a+goal+of+mobilizing+jointly+$100+billion+annually+by+2020+from+all+sources+to+address+the+needs+of+developing+countries+in+the+context+of+meaningful+mitigation+actions+and+transparency+on+implementation+and+fully+operationalize+the+Green+Climate+Fund+through+its+capitalization+as+soon+as+possible+++*+Acknowledging+that+the+United+Nations+Framework+Convention+on+Climate+Change+is+the+primary+international,+intergovernmental+forum+for+negotiating+the+global+response+to+climate+change.+\n",
      "finance should  represent a progression beyond previous efforts. \n",
      "4. The provision of scaled-up financial resources should aim to achieve a \n",
      "balance between adaptation and mitigation, taking into account country-driven \n",
      "strategies, and the priorities and needs of developing country Parties, especially \n",
      "those that are particularly vulnerable to the adverse effects of climate change and \n",
      "have significant capacity constraints, such as the least developed countries and \n",
      "small island developing States, considering the need for public and grant-based \n",
      "resources for adaptation. \n",
      "5. Developed country Parties shall biennially communicate indicative \n",
      "quantitative and qualitative information related to paragraphs 1 and 3 of this \n",
      "Article, as applicable, including, as available, projected levels of public financial \n",
      "resources to be provided to developing country Parties. Other Parties providing \n",
      "resources are encouraged to communicate biennially such information on a \n",
      "voluntary basis.\n",
      "and+ adaptation+ to+ climate+ change,+ resilience+ to+ disasters,+ and+ develop+ and+implement,+in+line+with+the+Sendai+Framework+for+Disaster+Risk+Reduction+2015J2030,+holistic+disaster+risk+management+at+all+levels++11.c+Support+least+developed+countries,+including+through+financial+and+technical+assistance,+in+building+sustainable+and+resilient+buildings+utilizing+local+materials+++!!Goal!12.!Ensure!sustainable!consumption!and!production!patterns!+12.1+Implement+the+10JYear+Framework+of+Programmes+on+Sustainable+Consumption+and+Production+ Patterns,+ all+ countries+ taking+ action,+ with+ developed+ countries+ taking+ the+ lead,+taking+into+account+the+development+and+capabilities+of+developing+countries+12.2+By+2030,+achieve+the+sustainable+management+and+efficient+use+of+natural+resources++\n",
      "8. Parties recognize the importance of integrated, holistic and balanced \n",
      "non-market approaches being available to Parties to assist in the implementation of \n",
      "their nationally determined contributions, in the context of sustainable development \n",
      "and poverty eradication, in a coordinated and effective manner, including through, \n",
      "inter alia, mitigation, adaptation, finance, technology transfer and capacity-\n",
      "building, as appropriate. These approaches shall aim to: \n",
      "(a) Promote mitigation and adaptation ambition; \n",
      "(b) Enhance public and private sector participation in the implementation \n",
      "of nationally determined  contributions; and \n",
      "(c) Enable opportunities for coordination across instruments and relevant \n",
      "institutional arrangements. \n",
      "9. A framework for non-market approaches to sustainable development is \n",
      "hereby defined to promote the non-market approaches referred to in paragraph 8 of \n",
      "this Article. \n",
      "-8-\n",
      "by+removing+ market+ distortions,+ in+ accordance+ with+ national+ circumstances,+ including+ by+restructuring+taxation+and+phasing+out+those+harmful+subsidies,+where+they+exist,+to+reflect+their+environmental+impacts,+taking+fully+into+account+the+specific+needs+and+conditions+of+developing+countries+and+minimizing+the+possible+adverse+impacts+on+their+development+in+a+manner+that+protects+the+poor+and+the+affected+communities+++!!Goal!13.!Take!urgent!action!to!combat!climate!change!and!its!impacts*!+13.1+Strengthen+ resilience+ and+ adaptive+ capacity+ to+ climateJrelated+ hazards+ and+\n",
      "6. Parties recognize the importance of support for and international cooperation \n",
      "on adaptation efforts and the importance of taking into account the needs of \n",
      "developing country Parties, especially those that are particularly vulnerable to the \n",
      "adverse effects of climate change. \n",
      "7. Parties should strengthen their cooperation on enhancing action on \n",
      "adaptation, taking into account the Cancun Adaptation Framework, including with \n",
      "regard to: \n",
      "-9-\n"
     ]
    }
   ],
   "source": [
    "for chunks in lotr.get_relevant_documents(\"Is there any framework available to tackle the climate change?\"):\n",
    "    print(chunks.page_content)"
   ]
  },
  {
   "cell_type": "code",
   "execution_count": null,
   "id": "d61909f7",
   "metadata": {},
   "outputs": [],
   "source": []
  }
 ],
 "metadata": {
  "kernelspec": {
   "display_name": "Python 3 (ipykernel)",
   "language": "python",
   "name": "python3"
  },
  "language_info": {
   "codemirror_mode": {
    "name": "ipython",
    "version": 3
   },
   "file_extension": ".py",
   "mimetype": "text/x-python",
   "name": "python",
   "nbconvert_exporter": "python",
   "pygments_lexer": "ipython3",
   "version": "3.11.4"
  }
 },
 "nbformat": 4,
 "nbformat_minor": 5
}
